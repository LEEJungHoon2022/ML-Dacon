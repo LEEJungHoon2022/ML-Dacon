{
 "cells": [
  {
   "cell_type": "code",
   "execution_count": 1,
   "id": "e9951446",
   "metadata": {
    "_cell_guid": "b1076dfc-b9ad-4769-8c92-a6c4dae69d19",
    "_uuid": "8f2839f25d086af736a60e9eeb907d3b93b6e0e5",
    "execution": {
     "iopub.execute_input": "2022-07-06T13:31:44.127890Z",
     "iopub.status.busy": "2022-07-06T13:31:44.127187Z",
     "iopub.status.idle": "2022-07-06T13:31:44.148691Z",
     "shell.execute_reply": "2022-07-06T13:31:44.147192Z"
    },
    "papermill": {
     "duration": 0.042307,
     "end_time": "2022-07-06T13:31:44.152091",
     "exception": false,
     "start_time": "2022-07-06T13:31:44.109784",
     "status": "completed"
    },
    "tags": []
   },
   "outputs": [
    {
     "name": "stdout",
     "output_type": "stream",
     "text": [
      "/kaggle/input/fifadataset/submission.csv\n",
      "/kaggle/input/fifadataset/FIFA_train.csv\n",
      "/kaggle/input/fifadataset/FIFA_test.csv\n"
     ]
    }
   ],
   "source": [
    "# This Python 3 environment comes with many helpful analytics libraries installed\n",
    "# It is defined by the kaggle/python Docker image: https://github.com/kaggle/docker-python\n",
    "# For example, here's several helpful packages to load\n",
    "\n",
    "import numpy as np # linear algebra\n",
    "import pandas as pd # data processing, CSV file I/O (e.g. pd.read_csv)\n",
    "\n",
    "# Input data files are available in the read-only \"../input/\" directory\n",
    "# For example, running this (by clicking run or pressing Shift+Enter) will list all files under the input directory\n",
    "\n",
    "import os\n",
    "for dirname, _, filenames in os.walk('/kaggle/input'):\n",
    "    for filename in filenames:\n",
    "        print(os.path.join(dirname, filename))\n",
    "\n",
    "# You can write up to 20GB to the current directory (/kaggle/working/) that gets preserved as output when you create a version using \"Save & Run All\" \n",
    "# You can also write temporary files to /kaggle/temp/, but they won't be saved outside of the current session"
   ]
  },
  {
   "cell_type": "code",
   "execution_count": 2,
   "id": "266db79c",
   "metadata": {
    "execution": {
     "iopub.execute_input": "2022-07-06T13:31:44.181805Z",
     "iopub.status.busy": "2022-07-06T13:31:44.181157Z",
     "iopub.status.idle": "2022-07-06T13:31:45.346272Z",
     "shell.execute_reply": "2022-07-06T13:31:45.345092Z"
    },
    "papermill": {
     "duration": 1.183045,
     "end_time": "2022-07-06T13:31:45.349330",
     "exception": false,
     "start_time": "2022-07-06T13:31:44.166285",
     "status": "completed"
    },
    "tags": []
   },
   "outputs": [],
   "source": [
    "import pandas as pd\n",
    "import seaborn as sns\n",
    "import numpy as np\n",
    "import matplotlib as mpl\n",
    "import matplotlib.pyplot as plt\n",
    "%matplotlib inline"
   ]
  },
  {
   "cell_type": "code",
   "execution_count": 3,
   "id": "10f74877",
   "metadata": {
    "execution": {
     "iopub.execute_input": "2022-07-06T13:31:45.379505Z",
     "iopub.status.busy": "2022-07-06T13:31:45.378212Z",
     "iopub.status.idle": "2022-07-06T13:31:45.463518Z",
     "shell.execute_reply": "2022-07-06T13:31:45.462043Z"
    },
    "papermill": {
     "duration": 0.102838,
     "end_time": "2022-07-06T13:31:45.466465",
     "exception": false,
     "start_time": "2022-07-06T13:31:45.363627",
     "status": "completed"
    },
    "tags": []
   },
   "outputs": [],
   "source": [
    "data_path = '../input/fifadataset/'\n",
    "fifa_train = pd.read_csv(data_path + 'FIFA_train.csv')\n",
    "fifa_test = pd.read_csv(data_path + 'FIFA_test.csv')\n",
    "submission = pd.read_csv(data_path + 'submission.csv')"
   ]
  },
  {
   "cell_type": "code",
   "execution_count": 4,
   "id": "fa742238",
   "metadata": {
    "execution": {
     "iopub.execute_input": "2022-07-06T13:31:45.495622Z",
     "iopub.status.busy": "2022-07-06T13:31:45.494891Z",
     "iopub.status.idle": "2022-07-06T13:31:45.504572Z",
     "shell.execute_reply": "2022-07-06T13:31:45.503444Z"
    },
    "papermill": {
     "duration": 0.027086,
     "end_time": "2022-07-06T13:31:45.506721",
     "exception": false,
     "start_time": "2022-07-06T13:31:45.479635",
     "status": "completed"
    },
    "tags": []
   },
   "outputs": [
    {
     "data": {
      "text/plain": [
       "((8932, 12), (3828, 11), (3828, 2))"
      ]
     },
     "execution_count": 4,
     "metadata": {},
     "output_type": "execute_result"
    }
   ],
   "source": [
    "fifa_train.shape, fifa_test.shape, submission.shape   # test 데이터에는 value 칼럼이 없음"
   ]
  },
  {
   "cell_type": "code",
   "execution_count": 5,
   "id": "4f26894c",
   "metadata": {
    "execution": {
     "iopub.execute_input": "2022-07-06T13:31:45.533819Z",
     "iopub.status.busy": "2022-07-06T13:31:45.533107Z",
     "iopub.status.idle": "2022-07-06T13:31:45.566364Z",
     "shell.execute_reply": "2022-07-06T13:31:45.564920Z"
    },
    "papermill": {
     "duration": 0.049718,
     "end_time": "2022-07-06T13:31:45.568912",
     "exception": false,
     "start_time": "2022-07-06T13:31:45.519194",
     "status": "completed"
    },
    "tags": []
   },
   "outputs": [
    {
     "name": "stdout",
     "output_type": "stream",
     "text": [
      "<class 'pandas.core.frame.DataFrame'>\n",
      "RangeIndex: 8932 entries, 0 to 8931\n",
      "Data columns (total 12 columns):\n",
      " #   Column            Non-Null Count  Dtype  \n",
      "---  ------            --------------  -----  \n",
      " 0   id                8932 non-null   int64  \n",
      " 1   name              8932 non-null   object \n",
      " 2   age               8932 non-null   int64  \n",
      " 3   continent         8932 non-null   object \n",
      " 4   contract_until    8932 non-null   object \n",
      " 5   position          8932 non-null   object \n",
      " 6   prefer_foot       8932 non-null   object \n",
      " 7   reputation        8932 non-null   float64\n",
      " 8   stat_overall      8932 non-null   int64  \n",
      " 9   stat_potential    8932 non-null   int64  \n",
      " 10  stat_skill_moves  8932 non-null   float64\n",
      " 11  value             8932 non-null   float64\n",
      "dtypes: float64(3), int64(4), object(5)\n",
      "memory usage: 837.5+ KB\n"
     ]
    }
   ],
   "source": [
    "fifa_train.info() # 결측치 없음"
   ]
  },
  {
   "cell_type": "code",
   "execution_count": 6,
   "id": "f2f69dcf",
   "metadata": {
    "execution": {
     "iopub.execute_input": "2022-07-06T13:31:45.598695Z",
     "iopub.status.busy": "2022-07-06T13:31:45.598199Z",
     "iopub.status.idle": "2022-07-06T13:31:45.616718Z",
     "shell.execute_reply": "2022-07-06T13:31:45.615228Z"
    },
    "papermill": {
     "duration": 0.037248,
     "end_time": "2022-07-06T13:31:45.619778",
     "exception": false,
     "start_time": "2022-07-06T13:31:45.582530",
     "status": "completed"
    },
    "tags": []
   },
   "outputs": [
    {
     "name": "stdout",
     "output_type": "stream",
     "text": [
      "<class 'pandas.core.frame.DataFrame'>\n",
      "RangeIndex: 3828 entries, 0 to 3827\n",
      "Data columns (total 11 columns):\n",
      " #   Column            Non-Null Count  Dtype  \n",
      "---  ------            --------------  -----  \n",
      " 0   id                3828 non-null   int64  \n",
      " 1   name              3828 non-null   object \n",
      " 2   age               3828 non-null   int64  \n",
      " 3   continent         3828 non-null   object \n",
      " 4   contract_until    3828 non-null   object \n",
      " 5   position          3828 non-null   object \n",
      " 6   prefer_foot       3828 non-null   object \n",
      " 7   reputation        3828 non-null   float64\n",
      " 8   stat_overall      3828 non-null   int64  \n",
      " 9   stat_potential    3828 non-null   int64  \n",
      " 10  stat_skill_moves  3828 non-null   float64\n",
      "dtypes: float64(2), int64(4), object(5)\n",
      "memory usage: 329.1+ KB\n"
     ]
    }
   ],
   "source": [
    "fifa_test.info() # 결측치 없음"
   ]
  },
  {
   "cell_type": "code",
   "execution_count": 7,
   "id": "7b7c62f8",
   "metadata": {
    "execution": {
     "iopub.execute_input": "2022-07-06T13:31:45.648830Z",
     "iopub.status.busy": "2022-07-06T13:31:45.647915Z",
     "iopub.status.idle": "2022-07-06T13:31:46.012483Z",
     "shell.execute_reply": "2022-07-06T13:31:46.010156Z"
    },
    "papermill": {
     "duration": 0.383698,
     "end_time": "2022-07-06T13:31:46.016673",
     "exception": false,
     "start_time": "2022-07-06T13:31:45.632975",
     "status": "completed"
    },
    "tags": []
   },
   "outputs": [
    {
     "data": {
      "image/png": "[encoded data removed]",
      "text/plain": [
       "<Figure size 360x360 with 1 Axes>"
      ]
     },
     "metadata": {
      "needs_background": "light"
     },
     "output_type": "display_data"
    }
   ],
   "source": [
    "mpl.rc('font', size = 15) # 폰트 크기 15\n",
    "sns.displot(fifa_train['value'], bins =15); # 분포가 0에 몰려있음(좋은 성능을 기대하기 어려움)"
   ]
  },
  {
   "cell_type": "code",
   "execution_count": 8,
   "id": "c4f93c58",
   "metadata": {
    "execution": {
     "iopub.execute_input": "2022-07-06T13:31:46.047376Z",
     "iopub.status.busy": "2022-07-06T13:31:46.046986Z",
     "iopub.status.idle": "2022-07-06T13:31:46.425630Z",
     "shell.execute_reply": "2022-07-06T13:31:46.424070Z"
    },
    "papermill": {
     "duration": 0.396477,
     "end_time": "2022-07-06T13:31:46.428310",
     "exception": false,
     "start_time": "2022-07-06T13:31:46.031833",
     "status": "completed"
    },
    "tags": []
   },
   "outputs": [
    {
     "data": {
      "text/plain": [
       "<seaborn.axisgrid.FacetGrid at 0x7f8677466dd0>"
      ]
     },
     "execution_count": 8,
     "metadata": {},
     "output_type": "execute_result"
    },
    {
     "data": {
      "image/png": "[encoded data removed]",
      "text/plain": [
       "<Figure size 360x360 with 1 Axes>"
      ]
     },
     "metadata": {
      "needs_background": "light"
     },
     "output_type": "display_data"
    }
   ],
   "source": [
    "sns.displot(np.log(fifa_train['value'])) # 데이터 분포를 정규 분포에 가깝게 만들기 위해 로그변환을 함"
   ]
  },
  {
   "cell_type": "markdown",
   "id": "d2a8e7e8",
   "metadata": {
    "papermill": {
     "duration": 0.015476,
     "end_time": "2022-07-06T13:31:46.458161",
     "exception": false,
     "start_time": "2022-07-06T13:31:46.442685",
     "status": "completed"
    },
    "tags": []
   },
   "source": [
    "### 타깃값을 value가 아닌 log(value)로 변환해 사용 // 마지막에는 지수 변환 하여 원래 value로 복원"
   ]
  },
  {
   "cell_type": "code",
   "execution_count": 9,
   "id": "a382614f",
   "metadata": {
    "execution": {
     "iopub.execute_input": "2022-07-06T13:31:46.487938Z",
     "iopub.status.busy": "2022-07-06T13:31:46.487555Z",
     "iopub.status.idle": "2022-07-06T13:31:49.261411Z",
     "shell.execute_reply": "2022-07-06T13:31:49.259905Z"
    },
    "papermill": {
     "duration": 2.792205,
     "end_time": "2022-07-06T13:31:49.264270",
     "exception": false,
     "start_time": "2022-07-06T13:31:46.472065",
     "status": "completed"
    },
    "tags": []
   },
   "outputs": [
    {
     "data": {
      "image/png": "[encoded data removed]",
      "text/plain": [
       "<Figure size 1440x1440 with 4 Axes>"
      ]
     },
     "metadata": {
      "needs_background": "light"
     },
     "output_type": "display_data"
    }
   ],
   "source": [
    "mpl.rc('font', size = 14) # 폰트 크기 설정\n",
    "mpl.rc('axes', titlesize=15) # 각 축의 제목 크기 설정\n",
    "figure, axes = plt.subplots(nrows = 2, ncols=2) # 2행 4열 Figure 생성\n",
    "# plt.tight_layout()\n",
    "figure.set_size_inches(20,20)\n",
    "\n",
    "sns.barplot(x='age', y='value', data=fifa_train, ax = axes[0,0])\n",
    "sns.barplot(x='continent', y='value', data=fifa_train, ax = axes[0,1])\n",
    "sns.barplot(x='contract_until', y='value', data=fifa_train, ax = axes[1,0])\n",
    "sns.barplot(x='position', y='value', data=fifa_train, ax = axes[1,1])\n",
    "axes[1,0].tick_params(axis = 'x', labelrotation = 90)"
   ]
  },
  {
   "cell_type": "code",
   "execution_count": 10,
   "id": "4d59f457",
   "metadata": {
    "execution": {
     "iopub.execute_input": "2022-07-06T13:31:49.297138Z",
     "iopub.status.busy": "2022-07-06T13:31:49.296698Z",
     "iopub.status.idle": "2022-07-06T13:31:53.876532Z",
     "shell.execute_reply": "2022-07-06T13:31:53.875444Z"
    },
    "papermill": {
     "duration": 4.59931,
     "end_time": "2022-07-06T13:31:53.879486",
     "exception": false,
     "start_time": "2022-07-06T13:31:49.280176",
     "status": "completed"
    },
    "tags": []
   },
   "outputs": [
    {
     "data": {
      "image/png": "[encoded data removed]",
      "text/plain": [
       "<Figure size 1440x1440 with 4 Axes>"
      ]
     },
     "metadata": {
      "needs_background": "light"
     },
     "output_type": "display_data"
    }
   ],
   "source": [
    "mpl.rc('font', size = 14) # 폰트 크기 설정\n",
    "mpl.rc('axes', titlesize=15) # 각 축의 제목 크기 설정\n",
    "figure, axes = plt.subplots(nrows = 2, ncols=2) # 2행 4열 Figure 생성\n",
    "# plt.tight_layout()\n",
    "figure.set_size_inches(20,20)\n",
    "\n",
    "\n",
    "sns.barplot(x='prefer_foot', y='value', data=fifa_train, ax = axes[0,0])\n",
    "sns.barplot(x='reputation', y='value', data=fifa_train, ax = axes[0,1])\n",
    "sns.barplot(x='stat_overall', y='value', data=fifa_train, ax = axes[1,0])\n",
    "sns.barplot(x='stat_potential', y='value', data=fifa_train, ax = axes[1,1])\n",
    "axes[1,0].tick_params(axis = 'x', labelrotation=90) # x축의 라벨을 90도 회전\n",
    "axes[1,1].tick_params(axis = 'x', labelrotation=90)"
   ]
  },
  {
   "cell_type": "code",
   "execution_count": 11,
   "id": "20675270",
   "metadata": {
    "execution": {
     "iopub.execute_input": "2022-07-06T13:31:53.914062Z",
     "iopub.status.busy": "2022-07-06T13:31:53.913653Z",
     "iopub.status.idle": "2022-07-06T13:31:54.344572Z",
     "shell.execute_reply": "2022-07-06T13:31:54.343632Z"
    },
    "papermill": {
     "duration": 0.450989,
     "end_time": "2022-07-06T13:31:54.347095",
     "exception": false,
     "start_time": "2022-07-06T13:31:53.896106",
     "status": "completed"
    },
    "tags": []
   },
   "outputs": [
    {
     "data": {
      "text/plain": [
       "<AxesSubplot:xlabel='stat_skill_moves', ylabel='value'>"
      ]
     },
     "execution_count": 11,
     "metadata": {},
     "output_type": "execute_result"
    },
    {
     "data": {
      "image/png": "[encoded data removed]",
      "text/plain": [
       "<Figure size 432x288 with 1 Axes>"
      ]
     },
     "metadata": {
      "needs_background": "light"
     },
     "output_type": "display_data"
    }
   ],
   "source": [
    "sns.barplot(x='stat_skill_moves', y='value', data=fifa_train)"
   ]
  },
  {
   "cell_type": "code",
   "execution_count": 12,
   "id": "a641aed3",
   "metadata": {
    "execution": {
     "iopub.execute_input": "2022-07-06T13:31:54.385211Z",
     "iopub.status.busy": "2022-07-06T13:31:54.384800Z",
     "iopub.status.idle": "2022-07-06T13:31:54.391954Z",
     "shell.execute_reply": "2022-07-06T13:31:54.390799Z"
    },
    "papermill": {
     "duration": 0.027571,
     "end_time": "2022-07-06T13:31:54.393984",
     "exception": false,
     "start_time": "2022-07-06T13:31:54.366413",
     "status": "completed"
    },
    "tags": []
   },
   "outputs": [
    {
     "data": {
      "text/plain": [
       "Index(['id', 'name', 'age', 'continent', 'contract_until', 'position',\n",
       "       'prefer_foot', 'reputation', 'stat_overall', 'stat_potential',\n",
       "       'stat_skill_moves', 'value'],\n",
       "      dtype='object')"
      ]
     },
     "execution_count": 12,
     "metadata": {},
     "output_type": "execute_result"
    }
   ],
   "source": [
    "fifa_train.columns"
   ]
  },
  {
   "cell_type": "code",
   "execution_count": 13,
   "id": "50858c45",
   "metadata": {
    "execution": {
     "iopub.execute_input": "2022-07-06T13:31:54.428170Z",
     "iopub.status.busy": "2022-07-06T13:31:54.427488Z",
     "iopub.status.idle": "2022-07-06T13:31:54.449409Z",
     "shell.execute_reply": "2022-07-06T13:31:54.448368Z"
    },
    "papermill": {
     "duration": 0.04172,
     "end_time": "2022-07-06T13:31:54.451831",
     "exception": false,
     "start_time": "2022-07-06T13:31:54.410111",
     "status": "completed"
    },
    "tags": []
   },
   "outputs": [
    {
     "data": {
      "text/html": [
       "<div>\n",
       "<style scoped>\n",
       "    .dataframe tbody tr th:only-of-type {\n",
       "        vertical-align: middle;\n",
       "    }\n",
       "\n",
       "    .dataframe tbody tr th {\n",
       "        vertical-align: top;\n",
       "    }\n",
       "\n",
       "    .dataframe thead th {\n",
       "        text-align: right;\n",
       "    }\n",
       "</style>\n",
       "<table border=\"1\" class=\"dataframe\">\n",
       "  <thead>\n",
       "    <tr style=\"text-align: right;\">\n",
       "      <th></th>\n",
       "      <th>age</th>\n",
       "      <th>reputation</th>\n",
       "      <th>stat_overall</th>\n",
       "      <th>stat_potential</th>\n",
       "      <th>stat_skill_moves</th>\n",
       "      <th>value</th>\n",
       "    </tr>\n",
       "  </thead>\n",
       "  <tbody>\n",
       "    <tr>\n",
       "      <th>age</th>\n",
       "      <td>1.000000</td>\n",
       "      <td>0.263468</td>\n",
       "      <td>0.467345</td>\n",
       "      <td>-0.231303</td>\n",
       "      <td>0.039362</td>\n",
       "      <td>0.087319</td>\n",
       "    </tr>\n",
       "    <tr>\n",
       "      <th>reputation</th>\n",
       "      <td>0.263468</td>\n",
       "      <td>1.000000</td>\n",
       "      <td>0.521389</td>\n",
       "      <td>0.399183</td>\n",
       "      <td>0.196582</td>\n",
       "      <td>0.665982</td>\n",
       "    </tr>\n",
       "    <tr>\n",
       "      <th>stat_overall</th>\n",
       "      <td>0.467345</td>\n",
       "      <td>0.521389</td>\n",
       "      <td>1.000000</td>\n",
       "      <td>0.665453</td>\n",
       "      <td>0.400164</td>\n",
       "      <td>0.658444</td>\n",
       "    </tr>\n",
       "    <tr>\n",
       "      <th>stat_potential</th>\n",
       "      <td>-0.231303</td>\n",
       "      <td>0.399183</td>\n",
       "      <td>0.665453</td>\n",
       "      <td>1.000000</td>\n",
       "      <td>0.332578</td>\n",
       "      <td>0.611907</td>\n",
       "    </tr>\n",
       "    <tr>\n",
       "      <th>stat_skill_moves</th>\n",
       "      <td>0.039362</td>\n",
       "      <td>0.196582</td>\n",
       "      <td>0.400164</td>\n",
       "      <td>0.332578</td>\n",
       "      <td>1.000000</td>\n",
       "      <td>0.298500</td>\n",
       "    </tr>\n",
       "    <tr>\n",
       "      <th>value</th>\n",
       "      <td>0.087319</td>\n",
       "      <td>0.665982</td>\n",
       "      <td>0.658444</td>\n",
       "      <td>0.611907</td>\n",
       "      <td>0.298500</td>\n",
       "      <td>1.000000</td>\n",
       "    </tr>\n",
       "  </tbody>\n",
       "</table>\n",
       "</div>"
      ],
      "text/plain": [
       "                       age  reputation  stat_overall  stat_potential  \\\n",
       "age               1.000000    0.263468      0.467345       -0.231303   \n",
       "reputation        0.263468    1.000000      0.521389        0.399183   \n",
       "stat_overall      0.467345    0.521389      1.000000        0.665453   \n",
       "stat_potential   -0.231303    0.399183      0.665453        1.000000   \n",
       "stat_skill_moves  0.039362    0.196582      0.400164        0.332578   \n",
       "value             0.087319    0.665982      0.658444        0.611907   \n",
       "\n",
       "                  stat_skill_moves     value  \n",
       "age                       0.039362  0.087319  \n",
       "reputation                0.196582  0.665982  \n",
       "stat_overall              0.400164  0.658444  \n",
       "stat_potential            0.332578  0.611907  \n",
       "stat_skill_moves          1.000000  0.298500  \n",
       "value                     0.298500  1.000000  "
      ]
     },
     "execution_count": 13,
     "metadata": {},
     "output_type": "execute_result"
    }
   ],
   "source": [
    "fifa_train[['age', 'reputation', 'stat_overall', 'stat_potential',\n",
    "       'stat_skill_moves', 'value']].corr()"
   ]
  },
  {
   "cell_type": "code",
   "execution_count": 14,
   "id": "b2f07c95",
   "metadata": {
    "execution": {
     "iopub.execute_input": "2022-07-06T13:31:54.487702Z",
     "iopub.status.busy": "2022-07-06T13:31:54.486968Z",
     "iopub.status.idle": "2022-07-06T13:31:54.926123Z",
     "shell.execute_reply": "2022-07-06T13:31:54.924778Z"
    },
    "papermill": {
     "duration": 0.46012,
     "end_time": "2022-07-06T13:31:54.929000",
     "exception": false,
     "start_time": "2022-07-06T13:31:54.468880",
     "status": "completed"
    },
    "tags": []
   },
   "outputs": [
    {
     "data": {
      "image/png": "[encoded data removed]",
      "text/plain": [
       "<Figure size 720x720 with 2 Axes>"
      ]
     },
     "metadata": {
      "needs_background": "light"
     },
     "output_type": "display_data"
    }
   ],
   "source": [
    "corrMat = fifa_train[['age', 'reputation', 'stat_overall', 'stat_potential',\n",
    "       'stat_skill_moves', 'value']].corr()\n",
    "fig, ax = plt.subplots()\n",
    "fig.set_size_inches(10,10)\n",
    "sns.heatmap(corrMat, annot=True) # 상관관계 히트맵 그리기\n",
    "ax.set(title='Heatmap of Numerical Data');"
   ]
  },
  {
   "cell_type": "markdown",
   "id": "cec24909",
   "metadata": {
    "papermill": {
     "duration": 0.016746,
     "end_time": "2022-07-06T13:31:54.963966",
     "exception": false,
     "start_time": "2022-07-06T13:31:54.947220",
     "status": "completed"
    },
    "tags": []
   },
   "source": [
    "#### age, prefer_foot, contract_until 피처 제거 contract_until은 모델 훈련 후 성능이 낮으면 사용"
   ]
  },
  {
   "cell_type": "markdown",
   "id": "afa44a75",
   "metadata": {
    "execution": {
     "iopub.execute_input": "2022-07-06T07:22:48.843908Z",
     "iopub.status.busy": "2022-07-06T07:22:48.84307Z",
     "iopub.status.idle": "2022-07-06T07:22:48.854129Z",
     "shell.execute_reply": "2022-07-06T07:22:48.853094Z",
     "shell.execute_reply.started": "2022-07-06T07:22:48.843873Z"
    },
    "papermill": {
     "duration": 0.016552,
     "end_time": "2022-07-06T13:31:54.997497",
     "exception": false,
     "start_time": "2022-07-06T13:31:54.980945",
     "status": "completed"
    },
    "tags": []
   },
   "source": [
    "## 나중에 다시 사용\n",
    "\n",
    "#### fifa_train['contract_until'].apply(lambda x: x[-4:]).value_counts()\n",
    "#### fifa_train['new_contract_until'] = fifa_train['contract_until'].apply(lambda x: x[-4:]).apply(lambda x: int(x))\n",
    "#### fifa_train['new_contract_until'].apply(lambda x: int(x))\n",
    "#### new_fifa_train = fifa_train.loc[fifa_train['new_contract_until'] < 2024]\n",
    "#### new_fifa_train.head()\n",
    "#### new_fifa_train['new_contract_until']\n",
    "#### sns.barplot(x='new_contract_until', y = 'value', data = new_fifa_train)\n",
    "#### fifa_train.head(10)\n",
    "#### new_fifa_train.corr()"
   ]
  },
  {
   "cell_type": "code",
   "execution_count": 15,
   "id": "e931715d",
   "metadata": {
    "execution": {
     "iopub.execute_input": "2022-07-06T13:31:55.033974Z",
     "iopub.status.busy": "2022-07-06T13:31:55.033583Z",
     "iopub.status.idle": "2022-07-06T13:31:55.050967Z",
     "shell.execute_reply": "2022-07-06T13:31:55.050156Z"
    },
    "papermill": {
     "duration": 0.037766,
     "end_time": "2022-07-06T13:31:55.052992",
     "exception": false,
     "start_time": "2022-07-06T13:31:55.015226",
     "status": "completed"
    },
    "tags": []
   },
   "outputs": [
    {
     "data": {
      "text/html": [
       "<div>\n",
       "<style scoped>\n",
       "    .dataframe tbody tr th:only-of-type {\n",
       "        vertical-align: middle;\n",
       "    }\n",
       "\n",
       "    .dataframe tbody tr th {\n",
       "        vertical-align: top;\n",
       "    }\n",
       "\n",
       "    .dataframe thead th {\n",
       "        text-align: right;\n",
       "    }\n",
       "</style>\n",
       "<table border=\"1\" class=\"dataframe\">\n",
       "  <thead>\n",
       "    <tr style=\"text-align: right;\">\n",
       "      <th></th>\n",
       "      <th>id</th>\n",
       "      <th>name</th>\n",
       "      <th>age</th>\n",
       "      <th>continent</th>\n",
       "      <th>contract_until</th>\n",
       "      <th>position</th>\n",
       "      <th>prefer_foot</th>\n",
       "      <th>reputation</th>\n",
       "      <th>stat_overall</th>\n",
       "      <th>stat_potential</th>\n",
       "      <th>stat_skill_moves</th>\n",
       "      <th>value</th>\n",
       "    </tr>\n",
       "  </thead>\n",
       "  <tbody>\n",
       "    <tr>\n",
       "      <th>0</th>\n",
       "      <td>0</td>\n",
       "      <td>L. Messi</td>\n",
       "      <td>31</td>\n",
       "      <td>south america</td>\n",
       "      <td>2021</td>\n",
       "      <td>ST</td>\n",
       "      <td>left</td>\n",
       "      <td>5.0</td>\n",
       "      <td>94</td>\n",
       "      <td>94</td>\n",
       "      <td>4.0</td>\n",
       "      <td>110500000.0</td>\n",
       "    </tr>\n",
       "    <tr>\n",
       "      <th>1</th>\n",
       "      <td>3</td>\n",
       "      <td>De Gea</td>\n",
       "      <td>27</td>\n",
       "      <td>europe</td>\n",
       "      <td>2020</td>\n",
       "      <td>GK</td>\n",
       "      <td>right</td>\n",
       "      <td>4.0</td>\n",
       "      <td>91</td>\n",
       "      <td>93</td>\n",
       "      <td>1.0</td>\n",
       "      <td>72000000.0</td>\n",
       "    </tr>\n",
       "    <tr>\n",
       "      <th>2</th>\n",
       "      <td>7</td>\n",
       "      <td>L. Suárez</td>\n",
       "      <td>31</td>\n",
       "      <td>south america</td>\n",
       "      <td>2021</td>\n",
       "      <td>ST</td>\n",
       "      <td>right</td>\n",
       "      <td>5.0</td>\n",
       "      <td>91</td>\n",
       "      <td>91</td>\n",
       "      <td>3.0</td>\n",
       "      <td>80000000.0</td>\n",
       "    </tr>\n",
       "    <tr>\n",
       "      <th>3</th>\n",
       "      <td>8</td>\n",
       "      <td>Sergio Ramos</td>\n",
       "      <td>32</td>\n",
       "      <td>europe</td>\n",
       "      <td>2020</td>\n",
       "      <td>DF</td>\n",
       "      <td>right</td>\n",
       "      <td>4.0</td>\n",
       "      <td>91</td>\n",
       "      <td>91</td>\n",
       "      <td>3.0</td>\n",
       "      <td>51000000.0</td>\n",
       "    </tr>\n",
       "    <tr>\n",
       "      <th>4</th>\n",
       "      <td>9</td>\n",
       "      <td>J. Oblak</td>\n",
       "      <td>25</td>\n",
       "      <td>europe</td>\n",
       "      <td>2021</td>\n",
       "      <td>GK</td>\n",
       "      <td>right</td>\n",
       "      <td>3.0</td>\n",
       "      <td>90</td>\n",
       "      <td>93</td>\n",
       "      <td>1.0</td>\n",
       "      <td>68000000.0</td>\n",
       "    </tr>\n",
       "  </tbody>\n",
       "</table>\n",
       "</div>"
      ],
      "text/plain": [
       "   id          name  age      continent contract_until position prefer_foot  \\\n",
       "0   0      L. Messi   31  south america           2021       ST        left   \n",
       "1   3        De Gea   27         europe           2020       GK       right   \n",
       "2   7     L. Suárez   31  south america           2021       ST       right   \n",
       "3   8  Sergio Ramos   32         europe           2020       DF       right   \n",
       "4   9      J. Oblak   25         europe           2021       GK       right   \n",
       "\n",
       "   reputation  stat_overall  stat_potential  stat_skill_moves        value  \n",
       "0         5.0            94              94               4.0  110500000.0  \n",
       "1         4.0            91              93               1.0   72000000.0  \n",
       "2         5.0            91              91               3.0   80000000.0  \n",
       "3         4.0            91              91               3.0   51000000.0  \n",
       "4         3.0            90              93               1.0   68000000.0  "
      ]
     },
     "execution_count": 15,
     "metadata": {},
     "output_type": "execute_result"
    }
   ],
   "source": [
    "fifa_train.head()"
   ]
  },
  {
   "cell_type": "code",
   "execution_count": 16,
   "id": "611ed17a",
   "metadata": {
    "execution": {
     "iopub.execute_input": "2022-07-06T13:31:55.090076Z",
     "iopub.status.busy": "2022-07-06T13:31:55.089486Z",
     "iopub.status.idle": "2022-07-06T13:31:55.109049Z",
     "shell.execute_reply": "2022-07-06T13:31:55.107847Z"
    },
    "papermill": {
     "duration": 0.040933,
     "end_time": "2022-07-06T13:31:55.111148",
     "exception": false,
     "start_time": "2022-07-06T13:31:55.070215",
     "status": "completed"
    },
    "tags": []
   },
   "outputs": [
    {
     "data": {
      "text/html": [
       "<div>\n",
       "<style scoped>\n",
       "    .dataframe tbody tr th:only-of-type {\n",
       "        vertical-align: middle;\n",
       "    }\n",
       "\n",
       "    .dataframe tbody tr th {\n",
       "        vertical-align: top;\n",
       "    }\n",
       "\n",
       "    .dataframe thead th {\n",
       "        text-align: right;\n",
       "    }\n",
       "</style>\n",
       "<table border=\"1\" class=\"dataframe\">\n",
       "  <thead>\n",
       "    <tr style=\"text-align: right;\">\n",
       "      <th></th>\n",
       "      <th>id</th>\n",
       "      <th>name</th>\n",
       "      <th>age</th>\n",
       "      <th>continent</th>\n",
       "      <th>contract_until</th>\n",
       "      <th>position</th>\n",
       "      <th>prefer_foot</th>\n",
       "      <th>reputation</th>\n",
       "      <th>stat_overall</th>\n",
       "      <th>stat_potential</th>\n",
       "      <th>stat_skill_moves</th>\n",
       "    </tr>\n",
       "  </thead>\n",
       "  <tbody>\n",
       "    <tr>\n",
       "      <th>0</th>\n",
       "      <td>1</td>\n",
       "      <td>Cristiano Ronaldo</td>\n",
       "      <td>33</td>\n",
       "      <td>europe</td>\n",
       "      <td>2022</td>\n",
       "      <td>ST</td>\n",
       "      <td>right</td>\n",
       "      <td>5.0</td>\n",
       "      <td>94</td>\n",
       "      <td>94</td>\n",
       "      <td>5.0</td>\n",
       "    </tr>\n",
       "    <tr>\n",
       "      <th>1</th>\n",
       "      <td>2</td>\n",
       "      <td>Neymar Jr</td>\n",
       "      <td>26</td>\n",
       "      <td>south america</td>\n",
       "      <td>2022</td>\n",
       "      <td>ST</td>\n",
       "      <td>right</td>\n",
       "      <td>5.0</td>\n",
       "      <td>92</td>\n",
       "      <td>93</td>\n",
       "      <td>5.0</td>\n",
       "    </tr>\n",
       "    <tr>\n",
       "      <th>2</th>\n",
       "      <td>4</td>\n",
       "      <td>K. De Bruyne</td>\n",
       "      <td>27</td>\n",
       "      <td>europe</td>\n",
       "      <td>2023</td>\n",
       "      <td>MF</td>\n",
       "      <td>right</td>\n",
       "      <td>4.0</td>\n",
       "      <td>91</td>\n",
       "      <td>92</td>\n",
       "      <td>4.0</td>\n",
       "    </tr>\n",
       "    <tr>\n",
       "      <th>3</th>\n",
       "      <td>5</td>\n",
       "      <td>E. Hazard</td>\n",
       "      <td>27</td>\n",
       "      <td>europe</td>\n",
       "      <td>2020</td>\n",
       "      <td>ST</td>\n",
       "      <td>right</td>\n",
       "      <td>4.0</td>\n",
       "      <td>91</td>\n",
       "      <td>91</td>\n",
       "      <td>4.0</td>\n",
       "    </tr>\n",
       "    <tr>\n",
       "      <th>4</th>\n",
       "      <td>6</td>\n",
       "      <td>L. Modrić</td>\n",
       "      <td>32</td>\n",
       "      <td>europe</td>\n",
       "      <td>2020</td>\n",
       "      <td>MF</td>\n",
       "      <td>right</td>\n",
       "      <td>4.0</td>\n",
       "      <td>91</td>\n",
       "      <td>91</td>\n",
       "      <td>4.0</td>\n",
       "    </tr>\n",
       "  </tbody>\n",
       "</table>\n",
       "</div>"
      ],
      "text/plain": [
       "   id               name  age      continent contract_until position  \\\n",
       "0   1  Cristiano Ronaldo   33         europe           2022       ST   \n",
       "1   2          Neymar Jr   26  south america           2022       ST   \n",
       "2   4       K. De Bruyne   27         europe           2023       MF   \n",
       "3   5          E. Hazard   27         europe           2020       ST   \n",
       "4   6          L. Modrić   32         europe           2020       MF   \n",
       "\n",
       "  prefer_foot  reputation  stat_overall  stat_potential  stat_skill_moves  \n",
       "0       right         5.0            94              94               5.0  \n",
       "1       right         5.0            92              93               5.0  \n",
       "2       right         4.0            91              92               4.0  \n",
       "3       right         4.0            91              91               4.0  \n",
       "4       right         4.0            91              91               4.0  "
      ]
     },
     "execution_count": 16,
     "metadata": {},
     "output_type": "execute_result"
    }
   ],
   "source": [
    "fifa_test.head()"
   ]
  },
  {
   "cell_type": "code",
   "execution_count": 17,
   "id": "ec6aa06a",
   "metadata": {
    "execution": {
     "iopub.execute_input": "2022-07-06T13:31:55.149091Z",
     "iopub.status.busy": "2022-07-06T13:31:55.148631Z",
     "iopub.status.idle": "2022-07-06T13:31:55.181718Z",
     "shell.execute_reply": "2022-07-06T13:31:55.180454Z"
    },
    "papermill": {
     "duration": 0.055232,
     "end_time": "2022-07-06T13:31:55.184205",
     "exception": false,
     "start_time": "2022-07-06T13:31:55.128973",
     "status": "completed"
    },
    "tags": []
   },
   "outputs": [
    {
     "data": {
      "text/html": [
       "<div>\n",
       "<style scoped>\n",
       "    .dataframe tbody tr th:only-of-type {\n",
       "        vertical-align: middle;\n",
       "    }\n",
       "\n",
       "    .dataframe tbody tr th {\n",
       "        vertical-align: top;\n",
       "    }\n",
       "\n",
       "    .dataframe thead th {\n",
       "        text-align: right;\n",
       "    }\n",
       "</style>\n",
       "<table border=\"1\" class=\"dataframe\">\n",
       "  <thead>\n",
       "    <tr style=\"text-align: right;\">\n",
       "      <th></th>\n",
       "      <th>id</th>\n",
       "      <th>name</th>\n",
       "      <th>age</th>\n",
       "      <th>continent</th>\n",
       "      <th>contract_until</th>\n",
       "      <th>position</th>\n",
       "      <th>prefer_foot</th>\n",
       "      <th>reputation</th>\n",
       "      <th>stat_overall</th>\n",
       "      <th>stat_potential</th>\n",
       "      <th>stat_skill_moves</th>\n",
       "      <th>value</th>\n",
       "    </tr>\n",
       "  </thead>\n",
       "  <tbody>\n",
       "    <tr>\n",
       "      <th>0</th>\n",
       "      <td>0</td>\n",
       "      <td>L. Messi</td>\n",
       "      <td>31</td>\n",
       "      <td>south america</td>\n",
       "      <td>2021</td>\n",
       "      <td>ST</td>\n",
       "      <td>left</td>\n",
       "      <td>5.0</td>\n",
       "      <td>94</td>\n",
       "      <td>94</td>\n",
       "      <td>4.0</td>\n",
       "      <td>110500000.0</td>\n",
       "    </tr>\n",
       "    <tr>\n",
       "      <th>1</th>\n",
       "      <td>3</td>\n",
       "      <td>De Gea</td>\n",
       "      <td>27</td>\n",
       "      <td>europe</td>\n",
       "      <td>2020</td>\n",
       "      <td>GK</td>\n",
       "      <td>right</td>\n",
       "      <td>4.0</td>\n",
       "      <td>91</td>\n",
       "      <td>93</td>\n",
       "      <td>1.0</td>\n",
       "      <td>72000000.0</td>\n",
       "    </tr>\n",
       "    <tr>\n",
       "      <th>2</th>\n",
       "      <td>7</td>\n",
       "      <td>L. Suárez</td>\n",
       "      <td>31</td>\n",
       "      <td>south america</td>\n",
       "      <td>2021</td>\n",
       "      <td>ST</td>\n",
       "      <td>right</td>\n",
       "      <td>5.0</td>\n",
       "      <td>91</td>\n",
       "      <td>91</td>\n",
       "      <td>3.0</td>\n",
       "      <td>80000000.0</td>\n",
       "    </tr>\n",
       "    <tr>\n",
       "      <th>3</th>\n",
       "      <td>8</td>\n",
       "      <td>Sergio Ramos</td>\n",
       "      <td>32</td>\n",
       "      <td>europe</td>\n",
       "      <td>2020</td>\n",
       "      <td>DF</td>\n",
       "      <td>right</td>\n",
       "      <td>4.0</td>\n",
       "      <td>91</td>\n",
       "      <td>91</td>\n",
       "      <td>3.0</td>\n",
       "      <td>51000000.0</td>\n",
       "    </tr>\n",
       "    <tr>\n",
       "      <th>4</th>\n",
       "      <td>9</td>\n",
       "      <td>J. Oblak</td>\n",
       "      <td>25</td>\n",
       "      <td>europe</td>\n",
       "      <td>2021</td>\n",
       "      <td>GK</td>\n",
       "      <td>right</td>\n",
       "      <td>3.0</td>\n",
       "      <td>90</td>\n",
       "      <td>93</td>\n",
       "      <td>1.0</td>\n",
       "      <td>68000000.0</td>\n",
       "    </tr>\n",
       "    <tr>\n",
       "      <th>...</th>\n",
       "      <td>...</td>\n",
       "      <td>...</td>\n",
       "      <td>...</td>\n",
       "      <td>...</td>\n",
       "      <td>...</td>\n",
       "      <td>...</td>\n",
       "      <td>...</td>\n",
       "      <td>...</td>\n",
       "      <td>...</td>\n",
       "      <td>...</td>\n",
       "      <td>...</td>\n",
       "      <td>...</td>\n",
       "    </tr>\n",
       "    <tr>\n",
       "      <th>12755</th>\n",
       "      <td>16924</td>\n",
       "      <td>R. Takae</td>\n",
       "      <td>20</td>\n",
       "      <td>asia</td>\n",
       "      <td>2021</td>\n",
       "      <td>MF</td>\n",
       "      <td>right</td>\n",
       "      <td>1.0</td>\n",
       "      <td>48</td>\n",
       "      <td>63</td>\n",
       "      <td>2.0</td>\n",
       "      <td>NaN</td>\n",
       "    </tr>\n",
       "    <tr>\n",
       "      <th>12756</th>\n",
       "      <td>16929</td>\n",
       "      <td>L. Wahlstedt</td>\n",
       "      <td>18</td>\n",
       "      <td>europe</td>\n",
       "      <td>2018</td>\n",
       "      <td>GK</td>\n",
       "      <td>right</td>\n",
       "      <td>1.0</td>\n",
       "      <td>48</td>\n",
       "      <td>65</td>\n",
       "      <td>1.0</td>\n",
       "      <td>NaN</td>\n",
       "    </tr>\n",
       "    <tr>\n",
       "      <th>12757</th>\n",
       "      <td>16932</td>\n",
       "      <td>Y. Góez</td>\n",
       "      <td>18</td>\n",
       "      <td>south america</td>\n",
       "      <td>2021</td>\n",
       "      <td>MF</td>\n",
       "      <td>right</td>\n",
       "      <td>1.0</td>\n",
       "      <td>48</td>\n",
       "      <td>65</td>\n",
       "      <td>2.0</td>\n",
       "      <td>NaN</td>\n",
       "    </tr>\n",
       "    <tr>\n",
       "      <th>12758</th>\n",
       "      <td>16937</td>\n",
       "      <td>A. Kaltner</td>\n",
       "      <td>18</td>\n",
       "      <td>europe</td>\n",
       "      <td>2020</td>\n",
       "      <td>ST</td>\n",
       "      <td>right</td>\n",
       "      <td>1.0</td>\n",
       "      <td>47</td>\n",
       "      <td>61</td>\n",
       "      <td>2.0</td>\n",
       "      <td>NaN</td>\n",
       "    </tr>\n",
       "    <tr>\n",
       "      <th>12759</th>\n",
       "      <td>16943</td>\n",
       "      <td>K. Fujikawa</td>\n",
       "      <td>19</td>\n",
       "      <td>asia</td>\n",
       "      <td>2021</td>\n",
       "      <td>MF</td>\n",
       "      <td>right</td>\n",
       "      <td>1.0</td>\n",
       "      <td>47</td>\n",
       "      <td>61</td>\n",
       "      <td>2.0</td>\n",
       "      <td>NaN</td>\n",
       "    </tr>\n",
       "  </tbody>\n",
       "</table>\n",
       "<p>12760 rows × 12 columns</p>\n",
       "</div>"
      ],
      "text/plain": [
       "          id          name  age      continent contract_until position  \\\n",
       "0          0      L. Messi   31  south america           2021       ST   \n",
       "1          3        De Gea   27         europe           2020       GK   \n",
       "2          7     L. Suárez   31  south america           2021       ST   \n",
       "3          8  Sergio Ramos   32         europe           2020       DF   \n",
       "4          9      J. Oblak   25         europe           2021       GK   \n",
       "...      ...           ...  ...            ...            ...      ...   \n",
       "12755  16924      R. Takae   20           asia           2021       MF   \n",
       "12756  16929  L. Wahlstedt   18         europe           2018       GK   \n",
       "12757  16932       Y. Góez   18  south america           2021       MF   \n",
       "12758  16937    A. Kaltner   18         europe           2020       ST   \n",
       "12759  16943   K. Fujikawa   19           asia           2021       MF   \n",
       "\n",
       "      prefer_foot  reputation  stat_overall  stat_potential  stat_skill_moves  \\\n",
       "0            left         5.0            94              94               4.0   \n",
       "1           right         4.0            91              93               1.0   \n",
       "2           right         5.0            91              91               3.0   \n",
       "3           right         4.0            91              91               3.0   \n",
       "4           right         3.0            90              93               1.0   \n",
       "...           ...         ...           ...             ...               ...   \n",
       "12755       right         1.0            48              63               2.0   \n",
       "12756       right         1.0            48              65               1.0   \n",
       "12757       right         1.0            48              65               2.0   \n",
       "12758       right         1.0            47              61               2.0   \n",
       "12759       right         1.0            47              61               2.0   \n",
       "\n",
       "             value  \n",
       "0      110500000.0  \n",
       "1       72000000.0  \n",
       "2       80000000.0  \n",
       "3       51000000.0  \n",
       "4       68000000.0  \n",
       "...            ...  \n",
       "12755          NaN  \n",
       "12756          NaN  \n",
       "12757          NaN  \n",
       "12758          NaN  \n",
       "12759          NaN  \n",
       "\n",
       "[12760 rows x 12 columns]"
      ]
     },
     "execution_count": 17,
     "metadata": {},
     "output_type": "execute_result"
    }
   ],
   "source": [
    "all_data = pd.concat([fifa_train, fifa_test], ignore_index=True)\n",
    "all_data"
   ]
  },
  {
   "cell_type": "code",
   "execution_count": 18,
   "id": "2030a5d2",
   "metadata": {
    "execution": {
     "iopub.execute_input": "2022-07-06T13:31:55.222498Z",
     "iopub.status.busy": "2022-07-06T13:31:55.221989Z",
     "iopub.status.idle": "2022-07-06T13:31:55.229817Z",
     "shell.execute_reply": "2022-07-06T13:31:55.228598Z"
    },
    "papermill": {
     "duration": 0.029869,
     "end_time": "2022-07-06T13:31:55.232256",
     "exception": false,
     "start_time": "2022-07-06T13:31:55.202387",
     "status": "completed"
    },
    "tags": []
   },
   "outputs": [
    {
     "data": {
      "text/plain": [
       "Index(['id', 'name', 'age', 'continent', 'contract_until', 'position',\n",
       "       'prefer_foot', 'reputation', 'stat_overall', 'stat_potential',\n",
       "       'stat_skill_moves', 'value'],\n",
       "      dtype='object')"
      ]
     },
     "execution_count": 18,
     "metadata": {},
     "output_type": "execute_result"
    }
   ],
   "source": [
    "all_data.columns"
   ]
  },
  {
   "cell_type": "markdown",
   "id": "a6aa6c6e",
   "metadata": {
    "papermill": {
     "duration": 0.017944,
     "end_time": "2022-07-06T13:31:55.268636",
     "exception": false,
     "start_time": "2022-07-06T13:31:55.250692",
     "status": "completed"
    },
    "tags": []
   },
   "source": [
    "### 제거 특성\n",
    "1. id\n",
    "2. name\n",
    "3. age\n",
    "4. contract_until (훈련 후 성능이 낮을 시 추가)\n",
    "5. prefer_foot\n",
    "\n",
    "### 중요 특성\n",
    "1. continent (학습 후 성능이 낮을 시 제거) \n",
    "2. position\n",
    "3. reputation\n",
    "4. stat_overall\n",
    "5. stat_potential\n",
    "6. stat_skill_moves(학습 후 성능이 낮을 시 제거)"
   ]
  },
  {
   "cell_type": "code",
   "execution_count": 19,
   "id": "ded37cff",
   "metadata": {
    "execution": {
     "iopub.execute_input": "2022-07-06T13:31:55.306782Z",
     "iopub.status.busy": "2022-07-06T13:31:55.306317Z",
     "iopub.status.idle": "2022-07-06T13:31:55.316657Z",
     "shell.execute_reply": "2022-07-06T13:31:55.315386Z"
    },
    "papermill": {
     "duration": 0.032513,
     "end_time": "2022-07-06T13:31:55.319033",
     "exception": false,
     "start_time": "2022-07-06T13:31:55.286520",
     "status": "completed"
    },
    "tags": []
   },
   "outputs": [],
   "source": [
    "drop_feature = ['id', 'name', 'age', 'contract_until','prefer_foot'] # 피처 제거\n",
    "\n",
    "all_data = all_data.drop(drop_feature, axis=1)"
   ]
  },
  {
   "cell_type": "code",
   "execution_count": 20,
   "id": "cdf63850",
   "metadata": {
    "execution": {
     "iopub.execute_input": "2022-07-06T13:31:55.358121Z",
     "iopub.status.busy": "2022-07-06T13:31:55.357658Z",
     "iopub.status.idle": "2022-07-06T13:31:55.373376Z",
     "shell.execute_reply": "2022-07-06T13:31:55.372368Z"
    },
    "papermill": {
     "duration": 0.038702,
     "end_time": "2022-07-06T13:31:55.375730",
     "exception": false,
     "start_time": "2022-07-06T13:31:55.337028",
     "status": "completed"
    },
    "tags": []
   },
   "outputs": [
    {
     "data": {
      "text/html": [
       "<div>\n",
       "<style scoped>\n",
       "    .dataframe tbody tr th:only-of-type {\n",
       "        vertical-align: middle;\n",
       "    }\n",
       "\n",
       "    .dataframe tbody tr th {\n",
       "        vertical-align: top;\n",
       "    }\n",
       "\n",
       "    .dataframe thead th {\n",
       "        text-align: right;\n",
       "    }\n",
       "</style>\n",
       "<table border=\"1\" class=\"dataframe\">\n",
       "  <thead>\n",
       "    <tr style=\"text-align: right;\">\n",
       "      <th></th>\n",
       "      <th>continent</th>\n",
       "      <th>position</th>\n",
       "      <th>reputation</th>\n",
       "      <th>stat_overall</th>\n",
       "      <th>stat_potential</th>\n",
       "      <th>stat_skill_moves</th>\n",
       "      <th>value</th>\n",
       "    </tr>\n",
       "  </thead>\n",
       "  <tbody>\n",
       "    <tr>\n",
       "      <th>0</th>\n",
       "      <td>south america</td>\n",
       "      <td>ST</td>\n",
       "      <td>5.0</td>\n",
       "      <td>94</td>\n",
       "      <td>94</td>\n",
       "      <td>4.0</td>\n",
       "      <td>110500000.0</td>\n",
       "    </tr>\n",
       "    <tr>\n",
       "      <th>1</th>\n",
       "      <td>europe</td>\n",
       "      <td>GK</td>\n",
       "      <td>4.0</td>\n",
       "      <td>91</td>\n",
       "      <td>93</td>\n",
       "      <td>1.0</td>\n",
       "      <td>72000000.0</td>\n",
       "    </tr>\n",
       "    <tr>\n",
       "      <th>2</th>\n",
       "      <td>south america</td>\n",
       "      <td>ST</td>\n",
       "      <td>5.0</td>\n",
       "      <td>91</td>\n",
       "      <td>91</td>\n",
       "      <td>3.0</td>\n",
       "      <td>80000000.0</td>\n",
       "    </tr>\n",
       "    <tr>\n",
       "      <th>3</th>\n",
       "      <td>europe</td>\n",
       "      <td>DF</td>\n",
       "      <td>4.0</td>\n",
       "      <td>91</td>\n",
       "      <td>91</td>\n",
       "      <td>3.0</td>\n",
       "      <td>51000000.0</td>\n",
       "    </tr>\n",
       "    <tr>\n",
       "      <th>4</th>\n",
       "      <td>europe</td>\n",
       "      <td>GK</td>\n",
       "      <td>3.0</td>\n",
       "      <td>90</td>\n",
       "      <td>93</td>\n",
       "      <td>1.0</td>\n",
       "      <td>68000000.0</td>\n",
       "    </tr>\n",
       "  </tbody>\n",
       "</table>\n",
       "</div>"
      ],
      "text/plain": [
       "       continent position  reputation  stat_overall  stat_potential  \\\n",
       "0  south america       ST         5.0            94              94   \n",
       "1         europe       GK         4.0            91              93   \n",
       "2  south america       ST         5.0            91              91   \n",
       "3         europe       DF         4.0            91              91   \n",
       "4         europe       GK         3.0            90              93   \n",
       "\n",
       "   stat_skill_moves        value  \n",
       "0               4.0  110500000.0  \n",
       "1               1.0   72000000.0  \n",
       "2               3.0   80000000.0  \n",
       "3               3.0   51000000.0  \n",
       "4               1.0   68000000.0  "
      ]
     },
     "execution_count": 20,
     "metadata": {},
     "output_type": "execute_result"
    }
   ],
   "source": [
    "all_data.head()"
   ]
  },
  {
   "cell_type": "code",
   "execution_count": 21,
   "id": "96fd0dd9",
   "metadata": {
    "execution": {
     "iopub.execute_input": "2022-07-06T13:31:55.426749Z",
     "iopub.status.busy": "2022-07-06T13:31:55.426266Z",
     "iopub.status.idle": "2022-07-06T13:31:55.436470Z",
     "shell.execute_reply": "2022-07-06T13:31:55.434640Z"
    },
    "papermill": {
     "duration": 0.0356,
     "end_time": "2022-07-06T13:31:55.438936",
     "exception": false,
     "start_time": "2022-07-06T13:31:55.403336",
     "status": "completed"
    },
    "tags": []
   },
   "outputs": [
    {
     "name": "stdout",
     "output_type": "stream",
     "text": [
      "['south america' 'europe' 'africa' 'asia' 'oceania']\n",
      "['ST' 'GK' 'DF' 'MF']\n"
     ]
    }
   ],
   "source": [
    "print(all_data['continent'].unique()) #  continent 고유값 확인\n",
    "print(all_data['position'].unique()) # position 고유값 확인"
   ]
  },
  {
   "cell_type": "markdown",
   "id": "d355a3c1",
   "metadata": {
    "papermill": {
     "duration": 0.019367,
     "end_time": "2022-07-06T13:31:55.477261",
     "exception": false,
     "start_time": "2022-07-06T13:31:55.457894",
     "status": "completed"
    },
    "tags": []
   },
   "source": [
    "#### 글자로 되어있는 범주형 데이터 숫자로 수정"
   ]
  },
  {
   "cell_type": "code",
   "execution_count": 22,
   "id": "1a553b84",
   "metadata": {
    "execution": {
     "iopub.execute_input": "2022-07-06T13:31:55.516319Z",
     "iopub.status.busy": "2022-07-06T13:31:55.515902Z",
     "iopub.status.idle": "2022-07-06T13:31:55.526104Z",
     "shell.execute_reply": "2022-07-06T13:31:55.525219Z"
    },
    "papermill": {
     "duration": 0.03224,
     "end_time": "2022-07-06T13:31:55.528327",
     "exception": false,
     "start_time": "2022-07-06T13:31:55.496087",
     "status": "completed"
    },
    "tags": []
   },
   "outputs": [],
   "source": [
    "all_data['continent'] = all_data['continent'].map({'south america' : 0, 'europe' : 1, 'africa' : 2, 'asia' : 3, 'oceania' : 4})"
   ]
  },
  {
   "cell_type": "code",
   "execution_count": 23,
   "id": "73468cab",
   "metadata": {
    "execution": {
     "iopub.execute_input": "2022-07-06T13:31:55.568289Z",
     "iopub.status.busy": "2022-07-06T13:31:55.567056Z",
     "iopub.status.idle": "2022-07-06T13:31:55.576971Z",
     "shell.execute_reply": "2022-07-06T13:31:55.576042Z"
    },
    "papermill": {
     "duration": 0.032211,
     "end_time": "2022-07-06T13:31:55.579364",
     "exception": false,
     "start_time": "2022-07-06T13:31:55.547153",
     "status": "completed"
    },
    "tags": []
   },
   "outputs": [],
   "source": [
    "all_data['position'] = all_data['position'].map({'ST':0, 'GK':1, 'DF':2, 'MF':3})"
   ]
  },
  {
   "cell_type": "code",
   "execution_count": 24,
   "id": "5182ae94",
   "metadata": {
    "execution": {
     "iopub.execute_input": "2022-07-06T13:31:55.618909Z",
     "iopub.status.busy": "2022-07-06T13:31:55.617649Z",
     "iopub.status.idle": "2022-07-06T13:31:55.638661Z",
     "shell.execute_reply": "2022-07-06T13:31:55.637484Z"
    },
    "papermill": {
     "duration": 0.043185,
     "end_time": "2022-07-06T13:31:55.641094",
     "exception": false,
     "start_time": "2022-07-06T13:31:55.597909",
     "status": "completed"
    },
    "tags": []
   },
   "outputs": [
    {
     "data": {
      "text/html": [
       "<div>\n",
       "<style scoped>\n",
       "    .dataframe tbody tr th:only-of-type {\n",
       "        vertical-align: middle;\n",
       "    }\n",
       "\n",
       "    .dataframe tbody tr th {\n",
       "        vertical-align: top;\n",
       "    }\n",
       "\n",
       "    .dataframe thead th {\n",
       "        text-align: right;\n",
       "    }\n",
       "</style>\n",
       "<table border=\"1\" class=\"dataframe\">\n",
       "  <thead>\n",
       "    <tr style=\"text-align: right;\">\n",
       "      <th></th>\n",
       "      <th>continent</th>\n",
       "      <th>position</th>\n",
       "      <th>reputation</th>\n",
       "      <th>stat_overall</th>\n",
       "      <th>stat_potential</th>\n",
       "      <th>stat_skill_moves</th>\n",
       "      <th>value</th>\n",
       "    </tr>\n",
       "  </thead>\n",
       "  <tbody>\n",
       "    <tr>\n",
       "      <th>0</th>\n",
       "      <td>0</td>\n",
       "      <td>0</td>\n",
       "      <td>5.0</td>\n",
       "      <td>94</td>\n",
       "      <td>94</td>\n",
       "      <td>4.0</td>\n",
       "      <td>110500000.0</td>\n",
       "    </tr>\n",
       "    <tr>\n",
       "      <th>1</th>\n",
       "      <td>1</td>\n",
       "      <td>1</td>\n",
       "      <td>4.0</td>\n",
       "      <td>91</td>\n",
       "      <td>93</td>\n",
       "      <td>1.0</td>\n",
       "      <td>72000000.0</td>\n",
       "    </tr>\n",
       "    <tr>\n",
       "      <th>2</th>\n",
       "      <td>0</td>\n",
       "      <td>0</td>\n",
       "      <td>5.0</td>\n",
       "      <td>91</td>\n",
       "      <td>91</td>\n",
       "      <td>3.0</td>\n",
       "      <td>80000000.0</td>\n",
       "    </tr>\n",
       "    <tr>\n",
       "      <th>3</th>\n",
       "      <td>1</td>\n",
       "      <td>2</td>\n",
       "      <td>4.0</td>\n",
       "      <td>91</td>\n",
       "      <td>91</td>\n",
       "      <td>3.0</td>\n",
       "      <td>51000000.0</td>\n",
       "    </tr>\n",
       "    <tr>\n",
       "      <th>4</th>\n",
       "      <td>1</td>\n",
       "      <td>1</td>\n",
       "      <td>3.0</td>\n",
       "      <td>90</td>\n",
       "      <td>93</td>\n",
       "      <td>1.0</td>\n",
       "      <td>68000000.0</td>\n",
       "    </tr>\n",
       "    <tr>\n",
       "      <th>...</th>\n",
       "      <td>...</td>\n",
       "      <td>...</td>\n",
       "      <td>...</td>\n",
       "      <td>...</td>\n",
       "      <td>...</td>\n",
       "      <td>...</td>\n",
       "      <td>...</td>\n",
       "    </tr>\n",
       "    <tr>\n",
       "      <th>12755</th>\n",
       "      <td>3</td>\n",
       "      <td>3</td>\n",
       "      <td>1.0</td>\n",
       "      <td>48</td>\n",
       "      <td>63</td>\n",
       "      <td>2.0</td>\n",
       "      <td>NaN</td>\n",
       "    </tr>\n",
       "    <tr>\n",
       "      <th>12756</th>\n",
       "      <td>1</td>\n",
       "      <td>1</td>\n",
       "      <td>1.0</td>\n",
       "      <td>48</td>\n",
       "      <td>65</td>\n",
       "      <td>1.0</td>\n",
       "      <td>NaN</td>\n",
       "    </tr>\n",
       "    <tr>\n",
       "      <th>12757</th>\n",
       "      <td>0</td>\n",
       "      <td>3</td>\n",
       "      <td>1.0</td>\n",
       "      <td>48</td>\n",
       "      <td>65</td>\n",
       "      <td>2.0</td>\n",
       "      <td>NaN</td>\n",
       "    </tr>\n",
       "    <tr>\n",
       "      <th>12758</th>\n",
       "      <td>1</td>\n",
       "      <td>0</td>\n",
       "      <td>1.0</td>\n",
       "      <td>47</td>\n",
       "      <td>61</td>\n",
       "      <td>2.0</td>\n",
       "      <td>NaN</td>\n",
       "    </tr>\n",
       "    <tr>\n",
       "      <th>12759</th>\n",
       "      <td>3</td>\n",
       "      <td>3</td>\n",
       "      <td>1.0</td>\n",
       "      <td>47</td>\n",
       "      <td>61</td>\n",
       "      <td>2.0</td>\n",
       "      <td>NaN</td>\n",
       "    </tr>\n",
       "  </tbody>\n",
       "</table>\n",
       "<p>12760 rows × 7 columns</p>\n",
       "</div>"
      ],
      "text/plain": [
       "       continent  position  reputation  stat_overall  stat_potential  \\\n",
       "0              0         0         5.0            94              94   \n",
       "1              1         1         4.0            91              93   \n",
       "2              0         0         5.0            91              91   \n",
       "3              1         2         4.0            91              91   \n",
       "4              1         1         3.0            90              93   \n",
       "...          ...       ...         ...           ...             ...   \n",
       "12755          3         3         1.0            48              63   \n",
       "12756          1         1         1.0            48              65   \n",
       "12757          0         3         1.0            48              65   \n",
       "12758          1         0         1.0            47              61   \n",
       "12759          3         3         1.0            47              61   \n",
       "\n",
       "       stat_skill_moves        value  \n",
       "0                   4.0  110500000.0  \n",
       "1                   1.0   72000000.0  \n",
       "2                   3.0   80000000.0  \n",
       "3                   3.0   51000000.0  \n",
       "4                   1.0   68000000.0  \n",
       "...                 ...          ...  \n",
       "12755               2.0          NaN  \n",
       "12756               1.0          NaN  \n",
       "12757               2.0          NaN  \n",
       "12758               2.0          NaN  \n",
       "12759               2.0          NaN  \n",
       "\n",
       "[12760 rows x 7 columns]"
      ]
     },
     "execution_count": 24,
     "metadata": {},
     "output_type": "execute_result"
    }
   ],
   "source": [
    "all_data"
   ]
  },
  {
   "cell_type": "code",
   "execution_count": 25,
   "id": "be2e462b",
   "metadata": {
    "execution": {
     "iopub.execute_input": "2022-07-06T13:31:55.681791Z",
     "iopub.status.busy": "2022-07-06T13:31:55.680282Z",
     "iopub.status.idle": "2022-07-06T13:31:55.688739Z",
     "shell.execute_reply": "2022-07-06T13:31:55.687885Z"
    },
    "papermill": {
     "duration": 0.031007,
     "end_time": "2022-07-06T13:31:55.691058",
     "exception": false,
     "start_time": "2022-07-06T13:31:55.660051",
     "status": "completed"
    },
    "tags": []
   },
   "outputs": [],
   "source": [
    "X_train = all_data[~pd.isnull(all_data['value'])] # 타겟이 존재하는 데이터는 훈련 데이터\n",
    "X_test = all_data[pd.isnull(all_data['value'])] # 타겟이 없는 데이터는 테스트 데이터"
   ]
  },
  {
   "cell_type": "code",
   "execution_count": 26,
   "id": "66a28381",
   "metadata": {
    "execution": {
     "iopub.execute_input": "2022-07-06T13:31:55.731393Z",
     "iopub.status.busy": "2022-07-06T13:31:55.729979Z",
     "iopub.status.idle": "2022-07-06T13:31:55.737960Z",
     "shell.execute_reply": "2022-07-06T13:31:55.737115Z"
    },
    "papermill": {
     "duration": 0.030252,
     "end_time": "2022-07-06T13:31:55.740239",
     "exception": false,
     "start_time": "2022-07-06T13:31:55.709987",
     "status": "completed"
    },
    "tags": []
   },
   "outputs": [],
   "source": [
    "X_train = X_train.drop(['value'], axis = 1) # 타겟값 제거\n",
    "X_test = X_test.drop(['value'], axis = 1) # 타겟값 제거"
   ]
  },
  {
   "cell_type": "code",
   "execution_count": 27,
   "id": "62c577b8",
   "metadata": {
    "execution": {
     "iopub.execute_input": "2022-07-06T13:31:55.780352Z",
     "iopub.status.busy": "2022-07-06T13:31:55.779279Z",
     "iopub.status.idle": "2022-07-06T13:31:55.785372Z",
     "shell.execute_reply": "2022-07-06T13:31:55.784513Z"
    },
    "papermill": {
     "duration": 0.028622,
     "end_time": "2022-07-06T13:31:55.787814",
     "exception": false,
     "start_time": "2022-07-06T13:31:55.759192",
     "status": "completed"
    },
    "tags": []
   },
   "outputs": [],
   "source": [
    "y = fifa_train['value']"
   ]
  },
  {
   "cell_type": "code",
   "execution_count": 28,
   "id": "7be15c34",
   "metadata": {
    "execution": {
     "iopub.execute_input": "2022-07-06T13:31:55.828065Z",
     "iopub.status.busy": "2022-07-06T13:31:55.826767Z",
     "iopub.status.idle": "2022-07-06T13:31:55.840766Z",
     "shell.execute_reply": "2022-07-06T13:31:55.839845Z"
    },
    "papermill": {
     "duration": 0.03642,
     "end_time": "2022-07-06T13:31:55.842950",
     "exception": false,
     "start_time": "2022-07-06T13:31:55.806530",
     "status": "completed"
    },
    "tags": []
   },
   "outputs": [
    {
     "data": {
      "text/html": [
       "<div>\n",
       "<style scoped>\n",
       "    .dataframe tbody tr th:only-of-type {\n",
       "        vertical-align: middle;\n",
       "    }\n",
       "\n",
       "    .dataframe tbody tr th {\n",
       "        vertical-align: top;\n",
       "    }\n",
       "\n",
       "    .dataframe thead th {\n",
       "        text-align: right;\n",
       "    }\n",
       "</style>\n",
       "<table border=\"1\" class=\"dataframe\">\n",
       "  <thead>\n",
       "    <tr style=\"text-align: right;\">\n",
       "      <th></th>\n",
       "      <th>continent</th>\n",
       "      <th>position</th>\n",
       "      <th>reputation</th>\n",
       "      <th>stat_overall</th>\n",
       "      <th>stat_potential</th>\n",
       "      <th>stat_skill_moves</th>\n",
       "    </tr>\n",
       "  </thead>\n",
       "  <tbody>\n",
       "    <tr>\n",
       "      <th>0</th>\n",
       "      <td>0</td>\n",
       "      <td>0</td>\n",
       "      <td>5.0</td>\n",
       "      <td>94</td>\n",
       "      <td>94</td>\n",
       "      <td>4.0</td>\n",
       "    </tr>\n",
       "    <tr>\n",
       "      <th>1</th>\n",
       "      <td>1</td>\n",
       "      <td>1</td>\n",
       "      <td>4.0</td>\n",
       "      <td>91</td>\n",
       "      <td>93</td>\n",
       "      <td>1.0</td>\n",
       "    </tr>\n",
       "    <tr>\n",
       "      <th>2</th>\n",
       "      <td>0</td>\n",
       "      <td>0</td>\n",
       "      <td>5.0</td>\n",
       "      <td>91</td>\n",
       "      <td>91</td>\n",
       "      <td>3.0</td>\n",
       "    </tr>\n",
       "    <tr>\n",
       "      <th>3</th>\n",
       "      <td>1</td>\n",
       "      <td>2</td>\n",
       "      <td>4.0</td>\n",
       "      <td>91</td>\n",
       "      <td>91</td>\n",
       "      <td>3.0</td>\n",
       "    </tr>\n",
       "    <tr>\n",
       "      <th>4</th>\n",
       "      <td>1</td>\n",
       "      <td>1</td>\n",
       "      <td>3.0</td>\n",
       "      <td>90</td>\n",
       "      <td>93</td>\n",
       "      <td>1.0</td>\n",
       "    </tr>\n",
       "  </tbody>\n",
       "</table>\n",
       "</div>"
      ],
      "text/plain": [
       "   continent  position  reputation  stat_overall  stat_potential  \\\n",
       "0          0         0         5.0            94              94   \n",
       "1          1         1         4.0            91              93   \n",
       "2          0         0         5.0            91              91   \n",
       "3          1         2         4.0            91              91   \n",
       "4          1         1         3.0            90              93   \n",
       "\n",
       "   stat_skill_moves  \n",
       "0               4.0  \n",
       "1               1.0  \n",
       "2               3.0  \n",
       "3               3.0  \n",
       "4               1.0  "
      ]
     },
     "execution_count": 28,
     "metadata": {},
     "output_type": "execute_result"
    }
   ],
   "source": [
    "X_train.head()"
   ]
  },
  {
   "cell_type": "markdown",
   "id": "3ca3919f",
   "metadata": {
    "papermill": {
     "duration": 0.018691,
     "end_time": "2022-07-06T13:31:55.880501",
     "exception": false,
     "start_time": "2022-07-06T13:31:55.861810",
     "status": "completed"
    },
    "tags": []
   },
   "source": [
    "## 평가지표 계산 함수 작성(RMSLE)\n",
    "#### 타깃값을 로그변환 했을 때 정규분포가 되기 때문에 로그를 사용하는 RMSLE 사용"
   ]
  },
  {
   "cell_type": "code",
   "execution_count": 29,
   "id": "9110b31f",
   "metadata": {
    "execution": {
     "iopub.execute_input": "2022-07-06T13:31:55.920817Z",
     "iopub.status.busy": "2022-07-06T13:31:55.920038Z",
     "iopub.status.idle": "2022-07-06T13:31:55.927431Z",
     "shell.execute_reply": "2022-07-06T13:31:55.926052Z"
    },
    "papermill": {
     "duration": 0.030392,
     "end_time": "2022-07-06T13:31:55.929730",
     "exception": false,
     "start_time": "2022-07-06T13:31:55.899338",
     "status": "completed"
    },
    "tags": []
   },
   "outputs": [],
   "source": [
    "import numpy as np\n",
    "\n",
    "def rmsle(y_true, y_pred, convertExp=True):\n",
    "    \n",
    "    # 지수변환\n",
    "    if convertExp:\n",
    "        y_true = np.exp(y_true)\n",
    "        y_pred = np.exp(y_pred)\n",
    "        \n",
    "    # 로그 변환 후 결측값을 0으로 변환\n",
    "    log_true = np.nan_to_num(np.log(y_true+1)) \n",
    "    log_pred = np.nan_to_num(np.log(y_pred+1))\n",
    "    \n",
    "    #RMSLE 계산\n",
    "    output = np.sqrt(np.mean((log_true - log_pred)**2))\n",
    "    return output"
   ]
  },
  {
   "cell_type": "markdown",
   "id": "6e759368",
   "metadata": {
    "papermill": {
     "duration": 0.018611,
     "end_time": "2022-07-06T13:31:55.967090",
     "exception": false,
     "start_time": "2022-07-06T13:31:55.948479",
     "status": "completed"
    },
    "tags": []
   },
   "source": [
    "## 모델 훈련"
   ]
  },
  {
   "cell_type": "code",
   "execution_count": 30,
   "id": "a1fc6a94",
   "metadata": {
    "execution": {
     "iopub.execute_input": "2022-07-06T13:31:56.008866Z",
     "iopub.status.busy": "2022-07-06T13:31:56.007988Z",
     "iopub.status.idle": "2022-07-06T13:31:56.448112Z",
     "shell.execute_reply": "2022-07-06T13:31:56.446947Z"
    },
    "papermill": {
     "duration": 0.464918,
     "end_time": "2022-07-06T13:31:56.451088",
     "exception": false,
     "start_time": "2022-07-06T13:31:55.986170",
     "status": "completed"
    },
    "tags": []
   },
   "outputs": [],
   "source": [
    "from sklearn.ensemble import RandomForestRegressor\n",
    "from sklearn.model_selection import GridSearchCV\n",
    "from sklearn import metrics"
   ]
  },
  {
   "cell_type": "code",
   "execution_count": 31,
   "id": "db49a252",
   "metadata": {
    "execution": {
     "iopub.execute_input": "2022-07-06T13:31:56.491820Z",
     "iopub.status.busy": "2022-07-06T13:31:56.490969Z",
     "iopub.status.idle": "2022-07-06T13:31:56.495914Z",
     "shell.execute_reply": "2022-07-06T13:31:56.494880Z"
    },
    "papermill": {
     "duration": 0.028076,
     "end_time": "2022-07-06T13:31:56.498095",
     "exception": false,
     "start_time": "2022-07-06T13:31:56.470019",
     "status": "completed"
    },
    "tags": []
   },
   "outputs": [],
   "source": [
    "rmsle_scorer = metrics.make_scorer(rmsle, greater_is_better=False)"
   ]
  },
  {
   "cell_type": "code",
   "execution_count": 32,
   "id": "0c7138f9",
   "metadata": {
    "execution": {
     "iopub.execute_input": "2022-07-06T13:31:56.537993Z",
     "iopub.status.busy": "2022-07-06T13:31:56.537508Z",
     "iopub.status.idle": "2022-07-06T13:33:34.958579Z",
     "shell.execute_reply": "2022-07-06T13:33:34.957371Z"
    },
    "papermill": {
     "duration": 98.464367,
     "end_time": "2022-07-06T13:33:34.981319",
     "exception": false,
     "start_time": "2022-07-06T13:31:56.516952",
     "status": "completed"
    },
    "tags": []
   },
   "outputs": [
    {
     "name": "stdout",
     "output_type": "stream",
     "text": [
      "최적 하이퍼파라미터 : {'n_estimators': 280, 'random_state': 42}\n"
     ]
    }
   ],
   "source": [
    "rfr = RandomForestRegressor()\n",
    "\n",
    "rf_params = {'random_state': [42], 'n_estimators':[100,120,140,160,180,200,220,240,260,280,300]} # 그리드 서치 수행\n",
    "gridsearch_rfr_model = GridSearchCV(estimator=rfr,               # 랜덤 포레스트 모델\n",
    "                                   param_grid=rf_params,         # 값 목록\n",
    "                                   scoring=rmsle_scorer,         # 평가지표\n",
    "                                   cv=5)                         # 교차 검증 분할 수\n",
    "\n",
    "# 그리드서치 수행\n",
    "log_y = np.log(y)\n",
    "gridsearch_rfr_model.fit(X_train, log_y)\n",
    "print('최적 하이퍼파라미터 :',gridsearch_rfr_model.best_params_)"
   ]
  },
  {
   "cell_type": "markdown",
   "id": "e34d8542",
   "metadata": {
    "papermill": {
     "duration": 0.020776,
     "end_time": "2022-07-06T13:33:35.021880",
     "exception": false,
     "start_time": "2022-07-06T13:33:35.001104",
     "status": "completed"
    },
    "tags": []
   },
   "source": [
    "## 모델 성능 검증"
   ]
  },
  {
   "cell_type": "code",
   "execution_count": 33,
   "id": "4976163a",
   "metadata": {
    "execution": {
     "iopub.execute_input": "2022-07-06T13:33:35.063352Z",
     "iopub.status.busy": "2022-07-06T13:33:35.062683Z",
     "iopub.status.idle": "2022-07-06T13:33:35.432965Z",
     "shell.execute_reply": "2022-07-06T13:33:35.431434Z"
    },
    "papermill": {
     "duration": 0.393847,
     "end_time": "2022-07-06T13:33:35.435351",
     "exception": false,
     "start_time": "2022-07-06T13:33:35.041504",
     "status": "completed"
    },
    "tags": []
   },
   "outputs": [
    {
     "name": "stdout",
     "output_type": "stream",
     "text": [
      "랜덤 포레스트 회귀 RMSLE 값 :0.2174\n"
     ]
    }
   ],
   "source": [
    "# 예측\n",
    "preds = gridsearch_rfr_model.best_estimator_.predict(X_train)\n",
    "\n",
    "# 평가\n",
    "print(f'랜덤 포레스트 회귀 RMSLE 값 :{rmsle(log_y, preds, True):.4f}')"
   ]
  },
  {
   "cell_type": "markdown",
   "id": "e117d4d5",
   "metadata": {
    "papermill": {
     "duration": 0.018957,
     "end_time": "2022-07-06T13:33:35.473349",
     "exception": false,
     "start_time": "2022-07-06T13:33:35.454392",
     "status": "completed"
    },
    "tags": []
   },
   "source": [
    "## 데이터 분포도 비교"
   ]
  },
  {
   "cell_type": "code",
   "execution_count": 34,
   "id": "e36f547d",
   "metadata": {
    "execution": {
     "iopub.execute_input": "2022-07-06T13:33:35.513478Z",
     "iopub.status.busy": "2022-07-06T13:33:35.513125Z",
     "iopub.status.idle": "2022-07-06T13:33:36.132942Z",
     "shell.execute_reply": "2022-07-06T13:33:36.131532Z"
    },
    "papermill": {
     "duration": 0.642837,
     "end_time": "2022-07-06T13:33:36.135275",
     "exception": false,
     "start_time": "2022-07-06T13:33:35.492438",
     "status": "completed"
    },
    "tags": []
   },
   "outputs": [
    {
     "data": {
      "image/png": "[encoded data removed]",
      "text/plain": [
       "<Figure size 720x288 with 2 Axes>"
      ]
     },
     "metadata": {
      "needs_background": "light"
     },
     "output_type": "display_data"
    }
   ],
   "source": [
    "import seaborn as sns\n",
    "import matplotlib.pyplot as plt\n",
    "\n",
    "rf_preds = gridsearch_rfr_model.best_estimator_.predict(X_test)\n",
    "\n",
    "figure, axes = plt.subplots(ncols=2)\n",
    "figure.set_size_inches(10,4)\n",
    "\n",
    "sns.histplot(y, bins = 30, ax=axes[0])\n",
    "axes[0].set_title('Train Data Distribution') # 원래 분포도\n",
    "sns.histplot(np.exp(rf_preds), bins = 30, ax=axes[1])\n",
    "axes[1].set_title('Predicted Test Data Distribution'); # 예측한 값의 분포도"
   ]
  },
  {
   "cell_type": "code",
   "execution_count": null,
   "id": "241a089e",
   "metadata": {
    "papermill": {
     "duration": 0.019256,
     "end_time": "2022-07-06T13:33:36.174217",
     "exception": false,
     "start_time": "2022-07-06T13:33:36.154961",
     "status": "completed"
    },
    "tags": []
   },
   "outputs": [],
   "source": []
  },
  {
   "cell_type": "code",
   "execution_count": null,
   "id": "148c85f5",
   "metadata": {
    "papermill": {
     "duration": 0.019433,
     "end_time": "2022-07-06T13:33:36.213262",
     "exception": false,
     "start_time": "2022-07-06T13:33:36.193829",
     "status": "completed"
    },
    "tags": []
   },
   "outputs": [],
   "source": []
  },
  {
   "cell_type": "code",
   "execution_count": null,
   "id": "f9418c4a",
   "metadata": {
    "papermill": {
     "duration": 0.019275,
     "end_time": "2022-07-06T13:33:36.252239",
     "exception": false,
     "start_time": "2022-07-06T13:33:36.232964",
     "status": "completed"
    },
    "tags": []
   },
   "outputs": [],
   "source": []
  },
  {
   "cell_type": "code",
   "execution_count": null,
   "id": "2fdc231f",
   "metadata": {
    "papermill": {
     "duration": 0.019028,
     "end_time": "2022-07-06T13:33:36.290970",
     "exception": false,
     "start_time": "2022-07-06T13:33:36.271942",
     "status": "completed"
    },
    "tags": []
   },
   "outputs": [],
   "source": []
  },
  {
   "cell_type": "code",
   "execution_count": null,
   "id": "e3b369f8",
   "metadata": {
    "papermill": {
     "duration": 0.019459,
     "end_time": "2022-07-06T13:33:36.330686",
     "exception": false,
     "start_time": "2022-07-06T13:33:36.311227",
     "status": "completed"
    },
    "tags": []
   },
   "outputs": [],
   "source": []
  },
  {
   "cell_type": "code",
   "execution_count": null,
   "id": "a6dfb46e",
   "metadata": {
    "papermill": {
     "duration": 0.019323,
     "end_time": "2022-07-06T13:33:36.369367",
     "exception": false,
     "start_time": "2022-07-06T13:33:36.350044",
     "status": "completed"
    },
    "tags": []
   },
   "outputs": [],
   "source": []
  },
  {
   "cell_type": "code",
   "execution_count": null,
   "id": "e24802de",
   "metadata": {
    "papermill": {
     "duration": 0.019197,
     "end_time": "2022-07-06T13:33:36.408057",
     "exception": false,
     "start_time": "2022-07-06T13:33:36.388860",
     "status": "completed"
    },
    "tags": []
   },
   "outputs": [],
   "source": []
  },
  {
   "cell_type": "code",
   "execution_count": null,
   "id": "3b779331",
   "metadata": {
    "papermill": {
     "duration": 0.019381,
     "end_time": "2022-07-06T13:33:36.446841",
     "exception": false,
     "start_time": "2022-07-06T13:33:36.427460",
     "status": "completed"
    },
    "tags": []
   },
   "outputs": [],
   "source": []
  },
  {
   "cell_type": "code",
   "execution_count": null,
   "id": "e318504d",
   "metadata": {
    "papermill": {
     "duration": 0.019352,
     "end_time": "2022-07-06T13:33:36.485799",
     "exception": false,
     "start_time": "2022-07-06T13:33:36.466447",
     "status": "completed"
    },
    "tags": []
   },
   "outputs": [],
   "source": []
  }
 ],
 "metadata": {
  "kernelspec": {
   "display_name": "Python 3",
   "language": "python",
   "name": "python3"
  },
  "language_info": {
   "codemirror_mode": {
    "name": "ipython",
    "version": 3
   },
   "file_extension": ".py",
   "mimetype": "text/x-python",
   "name": "python",
   "nbconvert_exporter": "python",
   "pygments_lexer": "ipython3",
   "version": "3.7.12"
  },
  "papermill": {
   "default_parameters": {},
   "duration": 123.842977,
   "end_time": "2022-07-06T13:33:37.529128",
   "environment_variables": {},
   "exception": null,
   "input_path": "__notebook__.ipynb",
   "output_path": "__notebook__.ipynb",
   "parameters": {},
   "start_time": "2022-07-06T13:31:33.686151",
   "version": "2.3.4"
  }
 },
 "nbformat": 4,
 "nbformat_minor": 5
}
